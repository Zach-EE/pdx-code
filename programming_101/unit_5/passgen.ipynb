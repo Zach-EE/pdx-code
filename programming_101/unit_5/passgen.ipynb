{
 "cells": [
  {
   "cell_type": "code",
   "execution_count": 3,
   "metadata": {},
   "outputs": [],
   "source": [
    "import string\n",
    "import random\n"
   ]
  },
  {
   "cell_type": "code",
   "execution_count": 62,
   "metadata": {},
   "outputs": [
    {
     "name": "stdout",
     "output_type": "stream",
     "text": [
      "Python is fun!\n",
      "Python is fun!\n"
     ]
    }
   ],
   "source": [
    "print(\"Python is fun!\") # Prints regular string\n",
    "print('Python'+' '+'is'+' '+'fun'+'!') # Breaks up string into strings for each word and character and concatonates it together for printing"
   ]
  },
  {
   "cell_type": "code",
   "execution_count": null,
   "metadata": {},
   "outputs": [],
   "source": [
    "SPECIAL_CHARS = list('!@#$%^&*(){}[]?//')\n",
    "DIGITS = list(string.digits)\n",
    "\n",
    "\n",
    "def generate_random_pass():\n",
    "\n",
    "    # User-Inputs\n",
    "    length = int(input('What is your desired passsword legnth: '))\n",
    "    # Minimum Password Length set to 8\n",
    "    if length <= 8:\n",
    "        print(\n",
    "            'ERROR: For your security ensure password length is greater than 8 characters')\n",
    "\n",
    "        length = int(input('What is your desired passsword legnth: '))\n",
    "    specials = int(\n",
    "        input('What is the required number of SPECIAL characters in password: '))\n",
    "    numbers = int(\n",
    "        input('What are the required # of INTEGER characters in password: '))\n",
    "\n",
    "    # Creates a list of randomly capitalized letters to use in the password gen.\n",
    "    chars = list(''.join(random.choice((str.upper, str.lower))(char)\n",
    "                         for char in string.ascii_letters))\n",
    "    letters = length - (specials + numbers)\n",
    "\n",
    "    password = []\n",
    "    i = 0\n",
    "    while i < length:\n",
    "        for j in range(specials):\n",
    "            password.append(random.choice(SPECIAL_CHARS))\n",
    "            i += 1\n",
    "        for j in range(numbers):\n",
    "            password.append(random.choice(DIGITS))\n",
    "            i += 1\n",
    "        for j in range(letters):\n",
    "            password.append(random.choice(chars))\n",
    "            i += 1\n",
    "    # convers randomizes password and converts to a string for user to copy\n",
    "    random.shuffle(password)\n",
    "    print(''.join(password))\n",
    "\n",
    "\n",
    "generate_random_pass()\n"
   ]
  },
  {
   "cell_type": "code",
   "execution_count": null,
   "metadata": {},
   "outputs": [],
   "source": [
    "# Function will take a list of numbers and return their sum\n",
    "def sum(numbers):\n",
    "    total = 0\n",
    "    for number in numbers:\n",
    "        total += int(number)\n",
    "\n",
    "    print(f'----------------\\nNumbers: { numbers }\\nSum: { total }')\n",
    "\n",
    "# Function will take in a list and a digit to filter. Will return a filtered list with digit removed.\n",
    "def remove_all(numbers, num_to_delete):\n",
    "    print(f'Numbers: { numbers } \\nRemove: { num_to_delete }')\n",
    "    results = list(filter(lambda x: x != num_to_delete,numbers))\n",
    "    print(f'Numbers: { results }')\n",
    "    input_msg = '0'\n",
    "    return results\n",
    "    \n",
    "def main():\n",
    "    numbers = []\n",
    "    \n",
    "    input_msg = input(\"'#' - adds numeric to list \\n'del' - remove entry from list \\n'done' - print sum and exit \\n=> \")\n",
    "    \n",
    "    while input_msg != 'done':\n",
    "        if input_msg.isnumeric():\n",
    "            numbers.append(input_msg)\n",
    "            input_msg = input(\"'#'/'del'/'done' => \")\n",
    "        elif input_msg == 'del':\n",
    "            num_to_delete = input('Input number to be removed: ')\n",
    "            numbers = remove_all(numbers, num_to_delete)\n",
    "            input_msg = input(\"'#'/'del'/'done' => \")\n",
    "        else:\n",
    "            input_msg = input(\n",
    "            \"Incorrect entry!!!\\n\\nEnter a whole number,'done', or 'del'\")\n",
    "    sum(numbers)\n",
    "    \n",
    "main()"
   ]
  },
  {
   "cell_type": "code",
   "execution_count": null,
   "metadata": {},
   "outputs": [],
   "source": [
    "def distance_converter(distance, original_unit, conversion_unit):\n",
    "    print(\n",
    "        f'...Converting { distance } { original_unit } to { conversion_unit }')\n",
    "    # switch dictionary that contains all supported units in meters for conversion calculations\n",
    "    switch = {\n",
    "        'in': 0.0254,   # 1 inch is 0.0254 m\n",
    "        'ft': 0.3048,   # 1 ft is 0.3048 m\n",
    "        'yd': 0.9144,   # 1 yard is 0.9144 m\n",
    "        'mi': 1609.34,  # 1 mi is 1609.34 m\n",
    "        'm': 1,         # 1 m is 1 m\n",
    "        'km': 1000      # 1 km is 1000 m\n",
    "    }2\n",
    "\n",
    "    float_distance = float(distance)\n",
    "\n",
    "    # conversion_value = (original_distance*original_unit_meters)/ conversion_unit_meters\n",
    "    conversion = float_distance * \\\n",
    "        switch.get(original_unit, \"Invalid input\") / \\\n",
    "        switch.get(conversion_unit, \"Invalid input\")\n",
    "    print(\n",
    "        f'\\n    => { distance } { original_unit } is { conversion } { conversion_unit }')\n",
    "\n",
    "\n",
    "def main():\n",
    "    supported_units = ['in', 'ft', 'yd', 'mi', 'm', 'km']\n",
    "\n",
    "    # user-inputs\n",
    "    print('...initializing...')\n",
    "    run = input(\n",
    "        f'Would you like to convert a distance?\\nSupported Conversions: { supported_units }?\\n    y/n: ').lower()\n",
    "    while run == 'y':\n",
    "        distance = input('What is the distance? \\n    => ')\n",
    "        if not distance.isnumeric():\n",
    "            while not distance.isnumeric():\n",
    "                print('...error distance must be numeric')\n",
    "                distance = input('What is the distance? \\n    => ')\n",
    "\n",
    "        original_unit = input('What is the input units? \\n    => ').lower()\n",
    "        if original_unit not in supported_units:\n",
    "            while original_unit not in supported_units:\n",
    "                original_unit = input(\n",
    "                    \"...error enter supported units\\nImperial: 'in','ft','yd' and 'mi'\\nMetric: 'm' and 'km'\\n    => \").lower()\n",
    "\n",
    "        conversion_unit = input('What are the output units? \\n    => ').lower()\n",
    "        if conversion_unit not in supported_units:\n",
    "            while conversion_unit not in supported_units:\n",
    "                conversion_unit = input(\n",
    "                    \"...error enter supported units\\nImperial: 'in','ft','yd' and 'mi'\\nMetric: 'm' and 'km'\\n    => \").lower()\n",
    "\n",
    "        distance_converter(distance, original_unit, conversion_unit)\n",
    "        run = input(\n",
    "            \"-----------------------------------------------\\nTo convert to another value enter 'y', exit program with anyother key:\\n    => \")\n",
    "    print('\\n\\nThanks for converting with me!!!')\n",
    "\n",
    "\n",
    "main()\n"
   ]
  },
  {
   "cell_type": "code",
   "execution_count": 10,
   "metadata": {},
   "outputs": [
    {
     "name": "stdout",
     "output_type": "stream",
     "text": [
      "hearts and heart are NOT anagrams of eachother!!!\n"
     ]
    }
   ],
   "source": [
    "def anagram_check(string_1, string_2):\n",
    "    # Converters and sorts string i/p by user into a sorted list of characters\n",
    "    list_1 = list(string_1)\n",
    "    list_2 = list(string_2)\n",
    "    list_1.sort(reverse=True)\n",
    "    list_2.sort(reverse=True)\n",
    "\n",
    "    if len(string_1) != len(string_2):\n",
    "        return False\n",
    "    \n",
    "    elif list_1 == list_2:\n",
    "        return True\n",
    "\n",
    "    else:\n",
    "        return False\n",
    "\n",
    "\n",
    "\n",
    "\n",
    "\n",
    "def main():\n",
    "    string_1 = input('Enter the first word: ').lower().strip()\n",
    "    string_2 = input('Enter the second word: ').lower().strip()\n",
    "\n",
    "    if anagram_check(string_1, string_2):\n",
    "        print(f'{ string_1 } and { string_2 } are anagrams of eachother!!!')\n",
    "    \n",
    "    else:\n",
    "        print(f'{ string_1 } and { string_2 } are NOT anagrams of eachother!!!')\n",
    "\n",
    "\n",
    "main()\n"
   ]
  },
  {
   "cell_type": "code",
   "execution_count": 14,
   "metadata": {},
   "outputs": [
    {
     "name": "stdout",
     "output_type": "stream",
     "text": [
      "Welcome, default\n"
     ]
    }
   ],
   "source": [
    "profile = {'username': 'default', 'password': 'password1'}\n",
    "\n",
    "\n",
    "def login(username_attempt, password_attempt, profile):\n",
    "    if username_attempt == profile['username'] and password_attempt == profile['password']:\n",
    "        return True\n",
    "    else:\n",
    "        return False\n",
    "\n",
    "\n",
    "def main():\n",
    "    profile = {'username': 'default', 'password': 'password1'}\n",
    "\n",
    "    run = 'y'\n",
    "\n",
    "    while run == 'y':\n",
    "        username = input('username: ')\n",
    "        password = input('password: ')\n",
    "        if login(username, password, profile):\n",
    "            print(f\"Welcome, {profile['username']}\")\n",
    "            run = 'n'\n",
    "        else:\n",
    "\n",
    "            run = input(\"Enter 'y' to try again, 'n' to quit: \")\n",
    "\n",
    "\n",
    "main()\n"
   ]
  }
 ],
 "metadata": {
  "interpreter": {
   "hash": "9efce205f64ad363cd9f14615485aca38ee4ef0915866e318aa83c8d0c93f6fc"
  },
  "kernelspec": {
   "display_name": "Python 3.10.1 64-bit",
   "language": "python",
   "name": "python3"
  },
  "language_info": {
   "codemirror_mode": {
    "name": "ipython",
    "version": 3
   },
   "file_extension": ".py",
   "mimetype": "text/x-python",
   "name": "python",
   "nbconvert_exporter": "python",
   "pygments_lexer": "ipython3",
   "version": "3.10.1"
  },
  "orig_nbformat": 4
 },
 "nbformat": 4,
 "nbformat_minor": 2
}
